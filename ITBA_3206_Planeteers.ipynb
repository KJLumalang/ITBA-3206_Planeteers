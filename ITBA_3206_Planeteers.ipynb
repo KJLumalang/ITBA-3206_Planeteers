{
  "nbformat": 4,
  "nbformat_minor": 0,
  "metadata": {
    "colab": {
      "name": "ITBA-3206_Planeteers.ipynb",
      "provenance": [],
      "authorship_tag": "ABX9TyNwroolnw5t3JFXGy3xMbuE",
      "include_colab_link": true
    },
    "kernelspec": {
      "name": "python3",
      "display_name": "Python 3"
    },
    "language_info": {
      "name": "python"
    }
  },
  "cells": [
    {
      "cell_type": "markdown",
      "metadata": {
        "id": "view-in-github",
        "colab_type": "text"
      },
      "source": [
        "<a href=\"https://colab.research.google.com/github/KJLumalang/ITBA-3206_Planeteers/blob/main/ITBA_3206_Planeteers.ipynb\" target=\"_parent\"><img src=\"https://colab.research.google.com/assets/colab-badge.svg\" alt=\"Open In Colab\"/></a>"
      ]
    },
    {
      "cell_type": "code",
      "execution_count": null,
      "metadata": {
        "id": "_zh8saa1S90q"
      },
      "outputs": [],
      "source": [
        "import numpy as np\n",
        "import pandas as pd"
      ]
    },
    {
      "cell_type": "code",
      "source": [
        "df = pd.read_csv('https://raw.githubusercontent.com/KJLumalang/ITBA-3206_Planeteers/main/historical_emissions.csv')\n",
        "df.head()\n",
        "print (df)"
      ],
      "metadata": {
        "colab": {
          "base_uri": "https://localhost:8080/"
        },
        "id": "2KnVh5N7kKqm",
        "outputId": "c12df4bd-c5f1-4042-e323-59ef5e423e1b"
      },
      "execution_count": null,
      "outputs": [
        {
          "output_type": "stream",
          "name": "stdout",
          "text": [
            "                 Country Data source                Sector      Gas    Unit  \\\n",
            "0                  World        CAIT  Total including LUCF  All GHG  MtCO₂e   \n",
            "1                  China        CAIT  Total including LUCF  All GHG  MtCO₂e   \n",
            "2          United States        CAIT  Total including LUCF  All GHG  MtCO₂e   \n",
            "3                  India        CAIT  Total including LUCF  All GHG  MtCO₂e   \n",
            "4    European Union (27)        CAIT  Total including LUCF  All GHG  MtCO₂e   \n",
            "..                   ...         ...                   ...      ...     ...   \n",
            "190             Kiribati        CAIT  Total including LUCF  All GHG  MtCO₂e   \n",
            "191         Cook Islands        CAIT  Total including LUCF  All GHG  MtCO₂e   \n",
            "192                Nauru        CAIT  Total including LUCF  All GHG  MtCO₂e   \n",
            "193               Tuvalu        CAIT  Total including LUCF  All GHG  MtCO₂e   \n",
            "194                 Niue        CAIT  Total including LUCF  All GHG  MtCO₂e   \n",
            "\n",
            "         2018      2017      2016      2015      2014  ...      1999  \\\n",
            "0    48939.71  47990.47  47413.95  46760.47  46647.29  ...  34948.94   \n",
            "1    11705.81  11408.26  11207.66  11149.68  11155.76  ...   4053.37   \n",
            "2     5794.35   5613.64   5676.92   5586.69   5711.15  ...   6291.25   \n",
            "3     3346.63   3202.82   3073.24   3002.17   2988.34  ...   1460.24   \n",
            "4     3333.16   3401.95   3387.97   3046.38   2990.49  ...   3934.85   \n",
            "..        ...       ...       ...       ...       ...  ...       ...   \n",
            "190      0.11      0.10      0.10      0.09      0.09  ...      0.05   \n",
            "191      0.10      0.09      0.09      0.08      0.08  ...      0.05   \n",
            "192      0.08      0.07      0.07      0.06      0.06  ...      0.10   \n",
            "193      0.03      0.03      0.02      0.02      0.02  ...      0.02   \n",
            "194      0.01      0.01      0.01      0.01      0.01  ...      0.01   \n",
            "\n",
            "         1998      1997      1996      1995      1994      1993      1992  \\\n",
            "0    34929.19  35387.89  34068.91  33703.46  32977.47  32766.49  32670.32   \n",
            "1     4103.23   3963.61   3954.75   3918.30   3528.81   3377.79   3154.54   \n",
            "2     6293.80   6258.47   6010.62   5843.90   5782.20   5691.26   5583.80   \n",
            "3     1382.26   1348.09   1289.63   1240.44   1174.78   1128.44   1096.71   \n",
            "4     4008.29   4048.58   4126.40   4018.79   3968.32   3984.95   4058.11   \n",
            "..        ...       ...       ...       ...       ...       ...       ...   \n",
            "190      0.05      0.05      0.05      0.05      0.04      0.05      0.04   \n",
            "191      0.05      0.05      0.04      0.04      0.03      0.03      0.03   \n",
            "192      0.11      0.11      0.11      0.11      0.12      0.12      0.13   \n",
            "193      0.02      0.02      0.02      0.02      0.02      0.02      0.02   \n",
            "194      0.01      0.01      0.01      0.01      0.01      0.01      0.01   \n",
            "\n",
            "         1991      1990  \n",
            "0    32813.46  32645.91  \n",
            "1     3023.38   2873.71  \n",
            "2     5501.92   5543.47  \n",
            "3     1064.49   1009.44  \n",
            "4     4202.13   4279.18  \n",
            "..        ...       ...  \n",
            "190      0.04      0.04  \n",
            "191      0.03      0.03  \n",
            "192      0.13      0.13  \n",
            "193      0.02      0.02  \n",
            "194      0.01      0.01  \n",
            "\n",
            "[195 rows x 34 columns]\n"
          ]
        }
      ]
    }
  ]
}